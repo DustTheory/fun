{
 "cells": [
  {
   "cell_type": "code",
   "execution_count": 1,
   "metadata": {},
   "outputs": [],
   "source": [
    "import math\n",
    "import testLib\n",
    "from Float import Single, Double\n",
    "import Float"
   ]
  },
  {
   "cell_type": "markdown",
   "metadata": {},
   "source": [
    "#### Test double to Single conversion, floating point addition and subtraction"
   ]
  },
  {
   "cell_type": "code",
   "execution_count": 2,
   "metadata": {},
   "outputs": [
    {
     "data": {
      "text/html": [
       "\n",
       "    <div style=\"color:rgb(0, 153, 0);\">\n",
       "        <b>PASS TEST 1 (Testing float to single conversion 1): </b>\n",
       "        <br>\n",
       "        <span style=\"margin-left: 50px;\">Error: 0.000000e+00, Tolerance: 1.000000e-05</span>\n",
       "    </div>\n",
       "    "
      ],
      "text/plain": [
       "<IPython.core.display.HTML object>"
      ]
     },
     "metadata": {},
     "output_type": "display_data"
    },
    {
     "data": {
      "text/html": [
       "\n",
       "    <div style=\"color:rgb(0, 153, 0);\">\n",
       "        <b>PASS TEST 2 (Testing float to single conversion 2): </b>\n",
       "        <br>\n",
       "        <span style=\"margin-left: 50px;\">Error: 0.000000e+00, Tolerance: 1.000000e-05</span>\n",
       "    </div>\n",
       "    "
      ],
      "text/plain": [
       "<IPython.core.display.HTML object>"
      ]
     },
     "metadata": {},
     "output_type": "display_data"
    },
    {
     "data": {
      "text/html": [
       "\n",
       "    <div style=\"color:rgb(1, 153, 0);\">\n",
       "        <b>PASS TEST 3 (Testing float to single conversion 3): </b>\n",
       "        <br>\n",
       "        <span style=\"margin-left: 50px;\">Error: 0.000000e+00, Tolerance: 1.000000e-05</span>\n",
       "    </div>\n",
       "    "
      ],
      "text/plain": [
       "<IPython.core.display.HTML object>"
      ]
     },
     "metadata": {},
     "output_type": "display_data"
    },
    {
     "data": {
      "text/html": [
       "\n",
       "    <div style=\"color:rgb(153, 28, 0);\">\n",
       "        <b>PASS TEST 4 (Testing float to single conversion 4): </b>\n",
       "        <br>\n",
       "        <span style=\"margin-left: 50px;\">Error: 1.000000e+00, Tolerance: 1.100000e+00</span>\n",
       "    </div>\n",
       "    "
      ],
      "text/plain": [
       "<IPython.core.display.HTML object>"
      ]
     },
     "metadata": {},
     "output_type": "display_data"
    },
    {
     "data": {
      "text/html": [
       "\n",
       "    <div style=\"color:rgb(1, 153, 0);\">\n",
       "        <b>PASS TEST 5 (Testing float to single conversion 5): </b>\n",
       "        <br>\n",
       "        <span style=\"margin-left: 50px;\">Error: 0.000000e+00, Tolerance: 1.000000e-05</span>\n",
       "    </div>\n",
       "    "
      ],
      "text/plain": [
       "<IPython.core.display.HTML object>"
      ]
     },
     "metadata": {},
     "output_type": "display_data"
    },
    {
     "data": {
      "text/html": [
       "\n",
       "    <div style=\"color:rgb(2, 153, 0);\">\n",
       "        <b>PASS TEST 6 (Testing floating point addition 1): </b>\n",
       "        <br>\n",
       "        <span style=\"margin-left: 50px;\">Error: 0.000000e+00, Tolerance: 1.000000e-05</span>\n",
       "    </div>\n",
       "    "
      ],
      "text/plain": [
       "<IPython.core.display.HTML object>"
      ]
     },
     "metadata": {},
     "output_type": "display_data"
    },
    {
     "data": {
      "text/html": [
       "\n",
       "    <div style=\"color:rgb(0, 153, 0);\">\n",
       "        <b>PASS TEST 7 (Testing floating point addition 2): </b>\n",
       "        <br>\n",
       "        <span style=\"margin-left: 50px;\">Error: 0.000000e+00, Tolerance: 1.000000e-05</span>\n",
       "    </div>\n",
       "    "
      ],
      "text/plain": [
       "<IPython.core.display.HTML object>"
      ]
     },
     "metadata": {},
     "output_type": "display_data"
    },
    {
     "data": {
      "text/html": [
       "\n",
       "    <div style=\"color:rgb(0, 153, 0);\">\n",
       "        <b>PASS TEST 8 (Testing floating point addition 3): </b>\n",
       "        <br>\n",
       "        <span style=\"margin-left: 50px;\">Error: 0.000000e+00, Tolerance: 1.000000e-05</span>\n",
       "    </div>\n",
       "    "
      ],
      "text/plain": [
       "<IPython.core.display.HTML object>"
      ]
     },
     "metadata": {},
     "output_type": "display_data"
    },
    {
     "data": {
      "text/html": [
       "\n",
       "    <div style=\"color:rgb(4, 153, 0);\">\n",
       "        <b>PASS TEST 9 (Testing floating point addition 4): </b>\n",
       "        <br>\n",
       "        <span style=\"margin-left: 50px;\">Error: 0.000000e+00, Tolerance: 1.000000e-05</span>\n",
       "    </div>\n",
       "    "
      ],
      "text/plain": [
       "<IPython.core.display.HTML object>"
      ]
     },
     "metadata": {},
     "output_type": "display_data"
    },
    {
     "data": {
      "text/html": [
       "\n",
       "    <div style=\"color:rgb(5, 153, 0);\">\n",
       "        <b>PASS TEST 10 (Testing floating point addition): </b>\n",
       "        <br>\n",
       "        <span style=\"margin-left: 50px;\">Error: 0.000000e+00, Tolerance: 1.000000e-05</span>\n",
       "    </div>\n",
       "    "
      ],
      "text/plain": [
       "<IPython.core.display.HTML object>"
      ]
     },
     "metadata": {},
     "output_type": "display_data"
    },
    {
     "data": {
      "text/html": [
       "\n",
       "    <div style=\"color:rgb(35, 153, 0);\">\n",
       "        <b>PASS TEST 11 (Testing cumulative error with subtraction 2): </b>\n",
       "        <br>\n",
       "        <span style=\"margin-left: 50px;\">Error: 1.137000e-03, Tolerance: 1.000000e-02</span>\n",
       "    </div>\n",
       "    "
      ],
      "text/plain": [
       "<IPython.core.display.HTML object>"
      ]
     },
     "metadata": {},
     "output_type": "display_data"
    },
    {
     "data": {
      "text/html": [
       "\n",
       "    <div style=\"color:rgb(153, 50, 0);\">\n",
       "        <b>PASS TEST 12 (Testing cumulative error with subtraction 2): </b>\n",
       "        <br>\n",
       "        <span style=\"margin-left: 50px;\">Error: 8.353400e-02, Tolerance: 1.000000e-01</span>\n",
       "    </div>\n",
       "    "
      ],
      "text/plain": [
       "<IPython.core.display.HTML object>"
      ]
     },
     "metadata": {},
     "output_type": "display_data"
    },
    {
     "data": {
      "text/html": [
       "\n",
       "    <div style=\"color:rgb(4, 153, 0);\">\n",
       "        <b>PASS TEST 13 (Testing floating point subtraction 1): </b>\n",
       "        <br>\n",
       "        <span style=\"margin-left: 50px;\">Error: 0.000000e+00, Tolerance: 1.000000e-05</span>\n",
       "    </div>\n",
       "    "
      ],
      "text/plain": [
       "<IPython.core.display.HTML object>"
      ]
     },
     "metadata": {},
     "output_type": "display_data"
    },
    {
     "data": {
      "text/html": [
       "\n",
       "    <div style=\"color:rgb(2, 153, 0);\">\n",
       "        <b>PASS TEST 14 (Testing floating point subtraction 1): </b>\n",
       "        <br>\n",
       "        <span style=\"margin-left: 50px;\">Error: 0.000000e+00, Tolerance: 1.000000e-05</span>\n",
       "    </div>\n",
       "    "
      ],
      "text/plain": [
       "<IPython.core.display.HTML object>"
      ]
     },
     "metadata": {},
     "output_type": "display_data"
    }
   ],
   "source": [
    "testLib.resetTests()\n",
    "\n",
    "testLib.EvalTest(10, Single(10).getFloat(), 1e-5, \"Testing float to single conversion 1\")\n",
    "testLib.EvalTest(-10, Single(-10).getFloat(), 1e-5, \"Testing float to single conversion 2\")\n",
    "testLib.EvalTest(1e-10, Single(1e-10).getFloat(), 1e-5, \"Testing float to single conversion 3\")\n",
    "testLib.EvalTest(1e-100, Single(1e-100).getFloat(), 1.1, \"Testing float to single conversion 4\")\n",
    "testLib.EvalTest(math.pi, Single(math.pi).getFloat(), 1e-5, \"Testing float to single conversion 5\")\n",
    "\n",
    "testLib.EvalTest(0.1 + 0.6, (Single(0.1) + Single(0.6)).getFloat(), 1e-5, \"Testing floating point addition 1\")\n",
    "testLib.EvalTest(999999999999 + math.pi, (Single(999999999999) + Single(math.pi)).getFloat(), 1e-5, \"Testing floating point addition 2\")\n",
    "testLib.EvalTest(9999999999999999999 + math.pi, (Single(9999999999999999999) + Single(math.pi)).getFloat(), 1e-5, \"Testing floating point addition 3\")\n",
    "testLib.EvalTest(0.1 + -0.6, (Single(0.1) + Single(-0.6)).getFloat(), 1e-5, \"Testing floating point addition 4\")\n",
    "\n",
    "\n",
    "testLib.EvalTest((0.1 + 0.6) - 0.1, ((Single(0.1) + Single(0.6)) - Single(0.1)).getFloat(), 1e-5, \"Testing floating point addition\")\n",
    "\n",
    "tmp1 = 20\n",
    "tmp2 = Single(20)\n",
    "for i in range(199):\n",
    "    tmp1 -= 0.1\n",
    "    tmp2 = tmp2 - Single(0.1)\n",
    "testLib.EvalTest(tmp1, tmp2.getFloat(), 0.01, \"Testing cumulative error with subtraction 2\")\n",
    "\n",
    "tmp1 = 200\n",
    "tmp2 = Single(200)\n",
    "for i in range(1999):\n",
    "    tmp1 -= 0.1\n",
    "    tmp2 = tmp2 - Single(0.1)\n",
    "testLib.EvalTest(tmp1, tmp2.getFloat(), 0.1, \"Testing cumulative error with subtraction 2\")\n",
    "\n",
    "testLib.EvalTest(0.1 - 0.6, (Single(0.1) - Single(0.6)).getFloat(), 1e-5, \"Testing floating point subtraction 1\")\n",
    "testLib.EvalTest(-0.1 - 0.6, (Single(-0.1) - Single(0.6)).getFloat(), 1e-5, \"Testing floating point subtraction 1\")\n",
    "\n"
   ]
  },
  {
   "cell_type": "markdown",
   "metadata": {},
   "source": [
    "#### Test multiplication, division and comparison"
   ]
  },
  {
   "cell_type": "code",
   "execution_count": 3,
   "metadata": {},
   "outputs": [
    {
     "data": {
      "text/html": [
       "\n",
       "    <div style=\"color:rgb(0, 153, 0);\">\n",
       "        <b>PASS TEST 15 (Testing float multiplication 1): </b>\n",
       "        <br>\n",
       "        <span style=\"margin-left: 50px;\">Error: 0.000000e+00, Tolerance: 1.000000e-05</span>\n",
       "    </div>\n",
       "    "
      ],
      "text/plain": [
       "<IPython.core.display.HTML object>"
      ]
     },
     "metadata": {},
     "output_type": "display_data"
    },
    {
     "data": {
      "text/html": [
       "\n",
       "    <div style=\"color:rgb(1, 153, 0);\">\n",
       "        <b>PASS TEST 16 (Testing float multiplication 2): </b>\n",
       "        <br>\n",
       "        <span style=\"margin-left: 50px;\">Error: 0.000000e+00, Tolerance: 1.000000e-05</span>\n",
       "    </div>\n",
       "    "
      ],
      "text/plain": [
       "<IPython.core.display.HTML object>"
      ]
     },
     "metadata": {},
     "output_type": "display_data"
    },
    {
     "data": {
      "text/html": [
       "\n",
       "    <div style=\"color:rgb(2, 153, 0);\">\n",
       "        <b>PASS TEST 17 (Testing float multiplication 3): </b>\n",
       "        <br>\n",
       "        <span style=\"margin-left: 50px;\">Error: 0.000000e+00, Tolerance: 1.000000e-05</span>\n",
       "    </div>\n",
       "    "
      ],
      "text/plain": [
       "<IPython.core.display.HTML object>"
      ]
     },
     "metadata": {},
     "output_type": "display_data"
    },
    {
     "data": {
      "text/html": [
       "\n",
       "    <div style=\"color:rgb(0, 153, 0);\">\n",
       "        <b>PASS TEST 18 (Testing float multiplication 4): </b>\n",
       "        <br>\n",
       "        <span style=\"margin-left: 50px;\">Error: 0.000000e+00, Tolerance: 1.000000e-05</span>\n",
       "    </div>\n",
       "    "
      ],
      "text/plain": [
       "<IPython.core.display.HTML object>"
      ]
     },
     "metadata": {},
     "output_type": "display_data"
    },
    {
     "data": {
      "text/html": [
       "\n",
       "    <div style=\"color:rgb(0, 153, 0);\">\n",
       "        <b>PASS TEST 19 (Testing float multiplication 5): </b>\n",
       "        <br>\n",
       "        <span style=\"margin-left: 50px;\">Error: 0.000000e+00, Tolerance: 1.000000e-05</span>\n",
       "    </div>\n",
       "    "
      ],
      "text/plain": [
       "<IPython.core.display.HTML object>"
      ]
     },
     "metadata": {},
     "output_type": "display_data"
    },
    {
     "data": {
      "text/html": [
       "\n",
       "    <div style=\"color:rgb(0, 153, 0);\">\n",
       "        <b>PASS TEST 20 (Testing float multiplication 6): </b>\n",
       "        <br>\n",
       "        <span style=\"margin-left: 50px;\">Error: 0.000000e+00, Tolerance: 1.000000e-05</span>\n",
       "    </div>\n",
       "    "
      ],
      "text/plain": [
       "<IPython.core.display.HTML object>"
      ]
     },
     "metadata": {},
     "output_type": "display_data"
    },
    {
     "data": {
      "text/html": [
       "\n",
       "    <div style=\"color:rgb(3, 153, 0);\">\n",
       "        <b>PASS TEST 21 (Testing float multiplication 7): </b>\n",
       "        <br>\n",
       "        <span style=\"margin-left: 50px;\">Error: 0.000000e+00, Tolerance: 1.000000e-05</span>\n",
       "    </div>\n",
       "    "
      ],
      "text/plain": [
       "<IPython.core.display.HTML object>"
      ]
     },
     "metadata": {},
     "output_type": "display_data"
    },
    {
     "data": {
      "text/html": [
       "\n",
       "    <div style=\"color:rgb(0, 153, 0);\">\n",
       "        <b>PASS TEST 22 (Testing float multiplication 7): </b>\n",
       "        <br>\n",
       "        <span style=\"margin-left: 50px;\">Error: 0.000000e+00, Tolerance: 1.000000e-05</span>\n",
       "    </div>\n",
       "    "
      ],
      "text/plain": [
       "<IPython.core.display.HTML object>"
      ]
     },
     "metadata": {},
     "output_type": "display_data"
    },
    {
     "data": {
      "text/html": [
       "\n",
       "    <div style=\"color:rgb(1, 153, 0);\">\n",
       "        <b>PASS TEST 23 (Testing float multiplication 7): </b>\n",
       "        <br>\n",
       "        <span style=\"margin-left: 50px;\">Error: 0.000000e+00, Tolerance: 1.000000e-05</span>\n",
       "    </div>\n",
       "    "
      ],
      "text/plain": [
       "<IPython.core.display.HTML object>"
      ]
     },
     "metadata": {},
     "output_type": "display_data"
    },
    {
     "data": {
      "text/html": [
       "\n",
       "    <div style=\"color:rgb(0, 153, 0);\">\n",
       "        <b>PASS TEST 24 (Testing double precision float multiplication 1): </b>\n",
       "        <br>\n",
       "        <span style=\"margin-left: 50px;\">Error: 0.000000e+00, Tolerance: 1.000000e-05</span>\n",
       "    </div>\n",
       "    "
      ],
      "text/plain": [
       "<IPython.core.display.HTML object>"
      ]
     },
     "metadata": {},
     "output_type": "display_data"
    },
    {
     "data": {
      "text/html": [
       "\n",
       "    <div style=\"color:rgb(0, 153, 0);\">\n",
       "        <b>PASS TEST 25 (Testing double precision float multiplication 2): </b>\n",
       "        <br>\n",
       "        <span style=\"margin-left: 50px;\">Error: 0.000000e+00, Tolerance: 1.000000e-05</span>\n",
       "    </div>\n",
       "    "
      ],
      "text/plain": [
       "<IPython.core.display.HTML object>"
      ]
     },
     "metadata": {},
     "output_type": "display_data"
    },
    {
     "data": {
      "text/html": [
       "\n",
       "    <div style=\"color:rgb(0, 153, 0);\">\n",
       "        <b>PASS TEST 26 (Testing double precision float multiplication 3): </b>\n",
       "        <br>\n",
       "        <span style=\"margin-left: 50px;\">Error: 0.000000e+00, Tolerance: 1.000000e-05</span>\n",
       "    </div>\n",
       "    "
      ],
      "text/plain": [
       "<IPython.core.display.HTML object>"
      ]
     },
     "metadata": {},
     "output_type": "display_data"
    },
    {
     "data": {
      "text/html": [
       "\n",
       "    <div style=\"color:rgb(0, 153, 0);\">\n",
       "        <b>PASS TEST 27 (Testing double precision float multiplication 4): </b>\n",
       "        <br>\n",
       "        <span style=\"margin-left: 50px;\">Error: 0.000000e+00, Tolerance: 1.000000e-05</span>\n",
       "    </div>\n",
       "    "
      ],
      "text/plain": [
       "<IPython.core.display.HTML object>"
      ]
     },
     "metadata": {},
     "output_type": "display_data"
    },
    {
     "data": {
      "text/html": [
       "\n",
       "    <div style=\"color:rgb(0, 153, 0);\">\n",
       "        <b>PASS TEST 28 (Testing double precision float multiplication 5): </b>\n",
       "        <br>\n",
       "        <span style=\"margin-left: 50px;\">Error: 0.000000e+00, Tolerance: 1.000000e-05</span>\n",
       "    </div>\n",
       "    "
      ],
      "text/plain": [
       "<IPython.core.display.HTML object>"
      ]
     },
     "metadata": {},
     "output_type": "display_data"
    },
    {
     "data": {
      "text/html": [
       "\n",
       "    <div style=\"color:rgb(0, 153, 0);\">\n",
       "        <b>PASS TEST 29 (Testing double precision float multiplication 6): </b>\n",
       "        <br>\n",
       "        <span style=\"margin-left: 50px;\">Error: 0.000000e+00, Tolerance: 1.000000e-05</span>\n",
       "    </div>\n",
       "    "
      ],
      "text/plain": [
       "<IPython.core.display.HTML object>"
      ]
     },
     "metadata": {},
     "output_type": "display_data"
    },
    {
     "data": {
      "text/html": [
       "\n",
       "    <div style=\"color:rgb(153, 0, 0);\">\n",
       "        <b>FAIL TEST 30 (Testing double precision float multiplication 7): </b>\n",
       "        <br>\n",
       "        <span style=\"margin-left: 50px;\">Error: 1.263146e+00, Tolerance: 1.000000e-05</span>\n",
       "    </div>\n",
       "    "
      ],
      "text/plain": [
       "<IPython.core.display.HTML object>"
      ]
     },
     "metadata": {},
     "output_type": "display_data"
    },
    {
     "data": {
      "text/html": [
       "\n",
       "    <div style=\"color:rgb(0, 153, 0);\">\n",
       "        <b>PASS TEST 31 (Testing double precision float multiplication 8): </b>\n",
       "        <br>\n",
       "        <span style=\"margin-left: 50px;\">Error: 0.000000e+00, Tolerance: 1.000000e-05</span>\n",
       "    </div>\n",
       "    "
      ],
      "text/plain": [
       "<IPython.core.display.HTML object>"
      ]
     },
     "metadata": {},
     "output_type": "display_data"
    },
    {
     "data": {
      "text/html": [
       "\n",
       "    <div style=\"color:rgb(153, 0, 0);\">\n",
       "        <b>FAIL TEST 32 (Testing double precision float multiplication 9): </b>\n",
       "        <br>\n",
       "        <span style=\"margin-left: 50px;\">Error: 6.374640e-01, Tolerance: 1.000000e-05</span>\n",
       "    </div>\n",
       "    "
      ],
      "text/plain": [
       "<IPython.core.display.HTML object>"
      ]
     },
     "metadata": {},
     "output_type": "display_data"
    },
    {
     "data": {
      "text/html": [
       "\n",
       "    <div style=\"color:rgb(0, 153, 0);\">\n",
       "        <b>PASS TEST 33 (Testing double precision float multiplication 10): </b>\n",
       "        <br>\n",
       "        <span style=\"margin-left: 50px;\">Error: 0.000000e+00, Tolerance: 1.000000e-05</span>\n",
       "    </div>\n",
       "    "
      ],
      "text/plain": [
       "<IPython.core.display.HTML object>"
      ]
     },
     "metadata": {},
     "output_type": "display_data"
    },
    {
     "data": {
      "text/html": [
       "\n",
       "    <div style=\"color:rgb(0, 153, 0);\">\n",
       "        <b>PASS TEST 34 (Testing float division 1): </b>\n",
       "        <br>\n",
       "        <span style=\"margin-left: 50px;\">Error: 0.000000e+00, Tolerance: 1.000000e-05</span>\n",
       "    </div>\n",
       "    "
      ],
      "text/plain": [
       "<IPython.core.display.HTML object>"
      ]
     },
     "metadata": {},
     "output_type": "display_data"
    },
    {
     "data": {
      "text/html": [
       "\n",
       "    <div style=\"color:rgb(0, 153, 0);\">\n",
       "        <b>PASS TEST 35 (Testing float division 2): </b>\n",
       "        <br>\n",
       "        <span style=\"margin-left: 50px;\">Error: 0.000000e+00, Tolerance: 1.000000e-05</span>\n",
       "    </div>\n",
       "    "
      ],
      "text/plain": [
       "<IPython.core.display.HTML object>"
      ]
     },
     "metadata": {},
     "output_type": "display_data"
    },
    {
     "data": {
      "text/html": [
       "\n",
       "    <div style=\"color:rgb(0, 153, 0);\">\n",
       "        <b>PASS TEST 36 (Testing float division 3): </b>\n",
       "        <br>\n",
       "        <span style=\"margin-left: 50px;\">Error: 0.000000e+00, Tolerance: 1.000000e-05</span>\n",
       "    </div>\n",
       "    "
      ],
      "text/plain": [
       "<IPython.core.display.HTML object>"
      ]
     },
     "metadata": {},
     "output_type": "display_data"
    },
    {
     "data": {
      "text/html": [
       "\n",
       "    <div style=\"color:rgb(3, 153, 0);\">\n",
       "        <b>PASS TEST 37 (Testing float division 4): </b>\n",
       "        <br>\n",
       "        <span style=\"margin-left: 50px;\">Error: 0.000000e+00, Tolerance: 1.000000e-05</span>\n",
       "    </div>\n",
       "    "
      ],
      "text/plain": [
       "<IPython.core.display.HTML object>"
      ]
     },
     "metadata": {},
     "output_type": "display_data"
    },
    {
     "data": {
      "text/html": [
       "\n",
       "    <div style=\"color:rgb(0, 153, 0);\">\n",
       "        <b>PASS TEST 38 (Testing float division 5): </b>\n",
       "        <br>\n",
       "        <span style=\"margin-left: 50px;\">Error: 0.000000e+00, Tolerance: 1.000000e-05</span>\n",
       "    </div>\n",
       "    "
      ],
      "text/plain": [
       "<IPython.core.display.HTML object>"
      ]
     },
     "metadata": {},
     "output_type": "display_data"
    },
    {
     "data": {
      "text/html": [
       "\n",
       "    <div style=\"color:rgb(0, 153, 0);\">\n",
       "        <b>PASS TEST 39 (Testing float division 6): </b>\n",
       "        <br>\n",
       "        <span style=\"margin-left: 50px;\">Error: 0.000000e+00, Tolerance: 1.000000e-05</span>\n",
       "    </div>\n",
       "    "
      ],
      "text/plain": [
       "<IPython.core.display.HTML object>"
      ]
     },
     "metadata": {},
     "output_type": "display_data"
    },
    {
     "data": {
      "text/html": [
       "\n",
       "    <div style=\"color:rgb(4, 153, 0);\">\n",
       "        <b>PASS TEST 40 (Testing float division 7): </b>\n",
       "        <br>\n",
       "        <span style=\"margin-left: 50px;\">Error: 0.000000e+00, Tolerance: 1.000000e-05</span>\n",
       "    </div>\n",
       "    "
      ],
      "text/plain": [
       "<IPython.core.display.HTML object>"
      ]
     },
     "metadata": {},
     "output_type": "display_data"
    },
    {
     "data": {
      "text/html": [
       "\n",
       "    <div style=\"color:rgb(153, 0, 0);\">\n",
       "        <b>FAIL TEST 41 (Testing float division 8): </b>\n",
       "        <br>\n",
       "        <span style=\"margin-left: 50px;\">Error: 1.290000e-04, Tolerance: 1.000000e-05</span>\n",
       "    </div>\n",
       "    "
      ],
      "text/plain": [
       "<IPython.core.display.HTML object>"
      ]
     },
     "metadata": {},
     "output_type": "display_data"
    },
    {
     "data": {
      "text/html": [
       "\n",
       "    <div style=\"color:rgb(153, 0, 0);\">\n",
       "        <b>FAIL TEST 42 (Testing float division 9): </b>\n",
       "        <br>\n",
       "        <span style=\"margin-left: 50px;\">Error: 7.200000e-05, Tolerance: 1.000000e-05</span>\n",
       "    </div>\n",
       "    "
      ],
      "text/plain": [
       "<IPython.core.display.HTML object>"
      ]
     },
     "metadata": {},
     "output_type": "display_data"
    },
    {
     "data": {
      "text/html": [
       "\n",
       "    <div style=\"color:rgb(0, 153, 0);\">\n",
       "        <b>PASS TEST 43 (Testing float division 10): </b>\n",
       "        <br>\n",
       "        <span style=\"margin-left: 50px;\">Error: 0.000000e+00, Tolerance: 1.000000e-05</span>\n",
       "    </div>\n",
       "    "
      ],
      "text/plain": [
       "<IPython.core.display.HTML object>"
      ]
     },
     "metadata": {},
     "output_type": "display_data"
    },
    {
     "data": {
      "text/html": [
       "\n",
       "    <div style=\"color:rgb(0, 153, 0);\">\n",
       "        <b>PASS TEST 44 (Testing float division 11): </b>\n",
       "        <br>\n",
       "        <span style=\"margin-left: 50px;\">Error: 0.000000e+00, Tolerance: 1.000000e-05</span>\n",
       "    </div>\n",
       "    "
      ],
      "text/plain": [
       "<IPython.core.display.HTML object>"
      ]
     },
     "metadata": {},
     "output_type": "display_data"
    },
    {
     "data": {
      "text/html": [
       "\n",
       "    <div style=\"color:rgb(0, 153, 0);\">\n",
       "        <b>PASS TEST 45 (Testing float division 12): </b>\n",
       "        <br>\n",
       "        <span style=\"margin-left: 50px;\">Error: 0.000000e+00, Tolerance: 1.000000e-05</span>\n",
       "    </div>\n",
       "    "
      ],
      "text/plain": [
       "<IPython.core.display.HTML object>"
      ]
     },
     "metadata": {},
     "output_type": "display_data"
    },
    {
     "data": {
      "text/html": [
       "\n",
       "    <div style=\"color:rgb(3, 153, 0);\">\n",
       "        <b>PASS TEST 46 (Testing float division 13): </b>\n",
       "        <br>\n",
       "        <span style=\"margin-left: 50px;\">Error: 0.000000e+00, Tolerance: 1.000000e-05</span>\n",
       "    </div>\n",
       "    "
      ],
      "text/plain": [
       "<IPython.core.display.HTML object>"
      ]
     },
     "metadata": {},
     "output_type": "display_data"
    }
   ],
   "source": [
    "# mul Single\n",
    "testLib.EvalTest(1.0*2.0,(Single(1.0) * Single(2.0)).getFloat(), 1e-5, \"Testing float multiplication 1\")\n",
    "testLib.EvalTest(2.5*3.14,(Single(2.5) * Single(3.14)).getFloat(), 1e-5, \"Testing float multiplication 2\")\n",
    "testLib.EvalTest(2**20 * 0.3,(Single(2**20) * Single(0.3)).getFloat(), 1e-5, \"Testing float multiplication 3\")\n",
    "testLib.EvalTest(2**20 * 2**32,(Single(2**20) * Single(2**32)).getFloat(), 1e-5, \"Testing float multiplication 4\")\n",
    "testLib.EvalTest(Single(2**100 * 2**100).getFloat(),(Single(2**100) * Single(2**100)).getFloat(), 1e-5, \"Testing float multiplication 5\")\n",
    "testLib.EvalTest(Single(2**-100 * 2**-100).getFloat(),(Single(2**-100) * Single(2**-100)).getFloat(), 1e-5, \"Testing float multiplication 6\")\n",
    "testLib.EvalTest(Single((2**100*1.3) * (2**-100*0.31)).getFloat(),(Single((2**100*1.3)) * Single((2**-100*0.31))).getFloat(), 1e-5, \"Testing float multiplication 7\")\n",
    "testLib.EvalTest(113*-1,(Single(113) * Single(-1)).getFloat(), 1e-5, \"Testing float multiplication 7\")\n",
    "testLib.EvalTest(-1e-10 * -1e-10,(Single(-1e-10 ) * Single(-1e-10)).getFloat(), 1e-5, \"Testing float multiplication 7\")\n",
    "\n",
    "#mul double\n",
    "testLib.EvalTest(1.0*2.0,(Double(1.0) * Double(2.0)).getDouble(), 1e-5, \"Testing double precision float multiplication 1\")\n",
    "testLib.EvalTest(2.5*3.14,(Double(2.5) * Double(3.14)).getDouble(), 1e-5, \"Testing double precision float multiplication 2\")\n",
    "testLib.EvalTest(2**20 * 0.3,(Double(2**20) * Double(0.3)).getDouble(), 1e-5, \"Testing double precision float multiplication 3\")\n",
    "testLib.EvalTest(2**20 * 2**32,(Double(2**20) * Double(2**32)).getDouble(), 1e-5, \"Testing double precision float multiplication 4\")\n",
    "testLib.EvalTest(Double(2**100 * 2**100).getDouble(),(Double(2**100) * Double(2**100)).getDouble(), 1e-5, \"Testing double precision float multiplication 5\")\n",
    "testLib.EvalTest(Double(2**-100 * 2**-100).getDouble(),(Double(2**-100) * Double(2**-100)).getDouble(), 1e-5, \"Testing double precision float multiplication 6\")\n",
    "testLib.EvalTest((2**100*1.3) * (2**-100*0.31),(Double((2**100*1.3)) * Double((2**-100*0.31))).getDouble(), 1e-5, \"Testing double precision float multiplication 7\")\n",
    "testLib.EvalTest(113*-1,(Double(113) * Double(-1)).getDouble(), 1e-5, \"Testing double precision float multiplication 8\")\n",
    "testLib.EvalTest(-1e-10 * -1e-10,(Double(-1e-10 ) * Double(-1e-10)).getDouble(), 1e-5, \"Testing double precision float multiplication 9\")\n",
    "\n",
    "testLib.EvalTest(2**1000 * 123456 * 2**-20, (Double(2**1000)*Double(123456)*Double(2**-20)).getDouble(), 1e-5, \"Testing double precision float multiplication 10\")\n",
    "\n",
    "#div\n",
    "testLib.EvalTest(1.0/2.0,(Single(1.0) / Single(2.0)).getFloat(), 1e-5, \"Testing float division 1\")\n",
    "testLib.EvalTest(1.3/100.1,(Single(1.3) / Single(100.1)).getFloat(), 1e-5, \"Testing float division 2\")\n",
    "testLib.EvalTest(1.3/0.1,(Single(1.3) / Single(0.1)).getFloat(), 1e-5, \"Testing float division 3\")\n",
    "testLib.EvalTest(0.3/0.1,(Single(0.3) / Single(0.1)).getFloat(), 1e-5, \"Testing float division 4\")\n",
    "testLib.EvalTest(91.34375/0.14453125,(Single(91.34375) / Single(0.14453125)).getFloat(), 1e-5, \"Testing float division 5\")\n",
    "testLib.EvalTest(91.34375/0.14453125,(Double(91.34375) / Double(0.14453125)).getDouble(), 1e-5, \"Testing float division 6\")\n",
    "testLib.EvalTest(91.34375/0.144,(Single(91.34375) / Single(0.144)).getFloat(), 1e-5, \"Testing float division 7\")\n",
    "testLib.EvalTest(91.34375/0.144,(Double(91.34375) / Double(0.144)).getDouble(), 1e-5, \"Testing float division 8\")\n",
    "testLib.EvalTest(-0.0000001/0.0001, (Double(-0.0000001) / Double(0.0001)).getDouble(), 1e-5, \"Testing float division 9\")\n",
    "testLib.EvalTest(1.0/-2.0,(Single(1.0) / Single(-2.0)).getFloat(), 1e-5, \"Testing float division 10\")\n",
    "testLib.EvalTest(-1.3/100.1,(Single(-1.3) / Single(100.1)).getFloat(), 1e-5, \"Testing float division 11\")\n",
    "testLib.EvalTest(-1.3/-0.1,(Single(-1.3) / Single(-0.1)).getFloat(), 1e-5, \"Testing float division 12\")\n",
    "testLib.EvalTest(0.3/-0.1,(Single(0.3) / Single(-0.1)).getFloat(), 1e-5, \"Testing float division 13\")\n"
   ]
  },
  {
   "cell_type": "code",
   "execution_count": 4,
   "metadata": {},
   "outputs": [],
   "source": [
    "import matplotlib.pyplot as plt\n",
    "import numpy as np"
   ]
  }
 ],
 "metadata": {
  "kernelspec": {
   "display_name": "Python 3",
   "language": "python",
   "name": "python3"
  },
  "language_info": {
   "codemirror_mode": {
    "name": "ipython",
    "version": 3
   },
   "file_extension": ".py",
   "mimetype": "text/x-python",
   "name": "python",
   "nbconvert_exporter": "python",
   "pygments_lexer": "ipython3",
   "version": "3.8.5"
  }
 },
 "nbformat": 4,
 "nbformat_minor": 4
}
